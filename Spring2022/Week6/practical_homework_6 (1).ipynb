{
 "cells": [
  {
   "cell_type": "markdown",
   "id": "40a5292f",
   "metadata": {},
   "source": [
    "### problem1\n",
    "Suppose that you have some images that need to be loaded from some server and be shown to\n",
    "the user. Since the loading may take some time, we want to have proxy images in case the real\n",
    "images are not loaded after some fixed amount of time. Simulate this scenario with classes of\n",
    "your choice and using proxy design pattern principle."
   ]
  },
  {
   "cell_type": "code",
   "execution_count": 2,
   "id": "c395bf5a",
   "metadata": {},
   "outputs": [],
   "source": [
    "class Server:\n",
    "    \n",
    "    def __init__(self, _editor):\n",
    "        self.server_proxy = ServerProxy(_editor)\n",
    "        \n",
    "    def load_image_from_server(self):\n",
    "        self.server_proxy.load_image()\n",
    "\n",
    "class Proxy_image:\n",
    "\n",
    "    def get_proxy_image(self):\n",
    "        print(\"return proxy image\")\n",
    "  \n",
    "  \n",
    "class ServerProxy:\n",
    " \n",
    "    def __init__(self, _editor):\n",
    "  \n",
    "        self.editor = _editor\n",
    "        self.poxy_image = None\n",
    "  \n",
    "    def load_image(self):\n",
    "  \n",
    "        print(\"Proxy in action. Checking to see if the loading is less than 0.3 or not...\")\n",
    "        if self.editor.loading_time >= 0.3:\n",
    "            # If the loading is less than 0.3, return proxy image .\n",
    "            self.poxy_image = Proxy_image()\n",
    "            self.poxy_image.get_proxy_image()\n",
    "        else:\n",
    "  \n",
    "            # Otherwise, don't instantiate the college object.\n",
    "            print(\"return image from Server\")\n",
    "\n",
    "class Editor:\n",
    "    \n",
    "    def __init__(self, _image_id, _loading_time):\n",
    "        self.image_id = _image_id\n",
    "        self.loading_time = _loading_time\n",
    "        self.server = Server(self)\n",
    "        \n",
    "    def edit_image(self):\n",
    "        print('loading image from database...')\n",
    "        self.server.load_image_from_server()"
   ]
  },
  {
   "cell_type": "code",
   "execution_count": 3,
   "id": "88d60265",
   "metadata": {},
   "outputs": [
    {
     "name": "stdout",
     "output_type": "stream",
     "text": [
      "loading image from database...\n",
      "Proxy in action. Checking to see if the loading is less than 0.3 or not...\n",
      "return image from Server\n",
      "\n",
      "\n",
      "loading image from database...\n",
      "Proxy in action. Checking to see if the loading is less than 0.3 or not...\n",
      "return proxy image\n"
     ]
    }
   ],
   "source": [
    "image1 = Editor(_image_id = 1, _loading_time=0.2)\n",
    "image1.edit_image()\n",
    "print('\\n')\n",
    "\n",
    "image2 = Editor(_image_id=2, _loading_time=0.5)\n",
    "image2.edit_image()"
   ]
  },
  {
   "cell_type": "markdown",
   "id": "f65171e7",
   "metadata": {},
   "source": [
    "### problem2 \n",
    "Use flyweight design pattern and classes of your choice to implement the logic in the diagram\n",
    "below. The tree factory should decide if it needs to create a new tree object or reuse an existing\n",
    "one, based on the values of the attributes.\n",
    "\n",
    "\n"
   ]
  },
  {
   "cell_type": "code",
   "execution_count": 108,
   "id": "a26acaad",
   "metadata": {},
   "outputs": [],
   "source": [
    "class TreeType:\n",
    "    def __init__(self, _name, _color, _texture):\n",
    "        self.name = _name\n",
    "        self.color = _color\n",
    "        self.texture = _texture\n",
    "    \n",
    "    def draw(self):\n",
    "        print(f\"{self.name}__{self.color}__{self.texture}\")\n",
    "\n",
    "\n",
    "class Tree:\n",
    "    \n",
    "    def __init__(self, _x, _y, _treeType : TreeType):\n",
    "        \n",
    "        self.x = _x\n",
    "        self.y = _y\n",
    "        self.tree_type = _treeType\n",
    "        \n",
    "    def draw(self):\n",
    "        print(f\"x: {self.x}\")\n",
    "        print(f\"y: {self.y}\")\n",
    "        \n",
    "        self.tree_type.draw()\n",
    "\n",
    "class TreeFactory:\n",
    "    \n",
    "    _treeTypes = {}\n",
    "\n",
    "    def __init__(self, initial_treeTypes):\n",
    "        for state in initial_treeTypes:\n",
    "            tree_name = state[0]\n",
    "            tree_color = state[1]\n",
    "            tree_texture = state[2]\n",
    "            self._treeTypes[self.get_key(state)] = TreeType(tree_name, tree_color, tree_texture)\n",
    "\n",
    "    def get_key(self, state):\n",
    "        return \"_\".join(sorted(state))\n",
    "    \n",
    "    \n",
    "    def get_tree_type(self, shared_state):\n",
    "        tree_type = self.get_key(shared_state)\n",
    "        \n",
    "        if not self._treeTypes.get(tree_type):\n",
    "            print(\"TreeFactory:  Can't find a tree type, creating new one.\")\n",
    "            tree_name = shared_state[0]\n",
    "            tree_color = shared_state[1]\n",
    "            tree_texture = shared_state[2]\n",
    "            self._treeTypes[tree_type] = TreeType(tree_name, tree_color, tree_texture)\n",
    "        else:\n",
    "            print(\"TreeFactory: Reusing existing flyweight.\")\n",
    "    \n",
    "        return self._treeTypes[tree_type]\n",
    "    \n",
    "    \n",
    "    def list_of_treeTypes(self):\n",
    "        count = len(self._treeTypes)\n",
    "        print(f\"TreeFactory: I have {count} tree types:\")\n",
    "        print(\"\\n\".join(map(str, self._treeTypes.keys())))\n",
    "\n",
    "\n",
    "class Forest:\n",
    "    \n",
    "    _trees = []\n",
    "    \n",
    "    def __init__(self, _tree_factory: TreeFactory):\n",
    "        self.tree_factory = _tree_factory\n",
    "\n",
    "    def plantTree(self, x, y, name, color, texture):\n",
    "        tree_type = self.tree_factory.get_tree_type([name, color, texture])\n",
    "        tree = Tree(x, y, tree_type)\n",
    "        self._trees.append(tree)\n",
    "\n",
    "    def draw(self):\n",
    "        for tree in self._trees:\n",
    "            tree.draw()\n",
    "        "
   ]
  },
  {
   "cell_type": "code",
   "execution_count": 109,
   "id": "ab56e63a",
   "metadata": {},
   "outputs": [
    {
     "name": "stdout",
     "output_type": "stream",
     "text": [
      "TreeFactory: I have 2 tree types:\n",
      "apple_red_texture1\n",
      "aplle_green_texture2\n"
     ]
    }
   ],
   "source": [
    "factory = TreeFactory([\n",
    "    [\"apple\", \"red\", \"texture1\"],\n",
    "    [\"aplle\", \"green\", \"texture2\"],\n",
    "])\n",
    "\n",
    "factory.list_of_treeTypes()"
   ]
  },
  {
   "cell_type": "code",
   "execution_count": 110,
   "id": "6db12ec7",
   "metadata": {},
   "outputs": [],
   "source": [
    "forest = Forest(factory)"
   ]
  },
  {
   "cell_type": "code",
   "execution_count": 111,
   "id": "1d2c5900",
   "metadata": {},
   "outputs": [
    {
     "name": "stdout",
     "output_type": "stream",
     "text": [
      "TreeFactory: Reusing existing flyweight.\n",
      "TreeFactory:  Can't find a tree type, creating new one.\n"
     ]
    }
   ],
   "source": [
    "forest.plantTree(1, 1, \"apple\", \"red\", \"texture1\")\n",
    "forest.plantTree(0, 0, \"ceder\", \"red\", \"texture2\")"
   ]
  },
  {
   "cell_type": "code",
   "execution_count": 112,
   "id": "be97a2ad",
   "metadata": {},
   "outputs": [
    {
     "name": "stdout",
     "output_type": "stream",
     "text": [
      "x: 1\n",
      "y: 1\n",
      "apple__red__texture1\n",
      "x: 0\n",
      "y: 0\n",
      "ceder__red__texture2\n"
     ]
    }
   ],
   "source": [
    "forest.draw()"
   ]
  },
  {
   "cell_type": "code",
   "execution_count": null,
   "id": "2daee954",
   "metadata": {},
   "outputs": [],
   "source": []
  }
 ],
 "metadata": {
  "kernelspec": {
   "display_name": "Python 3",
   "language": "python",
   "name": "python3"
  },
  "language_info": {
   "codemirror_mode": {
    "name": "ipython",
    "version": 3
   },
   "file_extension": ".py",
   "mimetype": "text/x-python",
   "name": "python",
   "nbconvert_exporter": "python",
   "pygments_lexer": "ipython3",
   "version": "3.8.8"
  }
 },
 "nbformat": 4,
 "nbformat_minor": 5
}
