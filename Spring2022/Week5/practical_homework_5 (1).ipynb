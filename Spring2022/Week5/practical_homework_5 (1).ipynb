{
 "cells": [
  {
   "cell_type": "markdown",
   "metadata": {},
   "source": [
    "## Problem 1\n",
    "\n",
    "```\n",
    "Create a Person class which will have attributes Name, Last Name, Email and Age. Use the Decorator pattern and any additional classes of your choice to implement the following logic:\n",
    "If the Person is a child (age<14), s/he wants the information about them printed as follows: *** &&& Name - Last Name - Email &&& ***. Otherwise, print the information like this: &&& Name - Last Name - Email &&&.  \n",
    "\n",
    "Ստեղծեք Person class-ը, որն ունի հետևյալ attribute-ները՝ Name, Last Name, Email և Age։ Գործածեք Decorator pattern և ձեր ընտրությամբ ցանկացած լրացուցիչ class-ներ հետևյալ տրամաբանությունը ստանալու համար՝ \n",
    "Եթե Person կլասի օբյեկտը երեխա է (age<14)՝ նա ցանկանում է, որ իր մասին ինֆորմացիան արտածվի այսպես՝ *** &&& Name - Last Name - Email &&& ***. Հակառակ դեպքում, եթե մարդը մեծահասակ է, իր մասին ինֆորմացիան պետք է արտածվի հետևյալ կերպ՝ &&& Name - Last Name - Email &&&։ \n",
    "```"
   ]
  },
  {
   "cell_type": "code",
   "execution_count": 15,
   "metadata": {},
   "outputs": [],
   "source": [
    "class Person:\n",
    "    \n",
    "    def __init__(self, _name, _last_name, _email, _age):\n",
    "        self.name = _name\n",
    "        self.last_name = _last_name\n",
    "        self.email = _email\n",
    "        self.age = _age\n",
    "        \n",
    "    @property\n",
    "    def info(self): \n",
    "        return f\"\"\"Name: {self.name} {self.last_name} \n",
    "                 Age: {self.age}\n",
    "                 E-mail: {self.email}\"\"\"\n",
    "         \n",
    "class Information(Person):\n",
    "    \n",
    "    def __init__(self, _person: Person):\n",
    "        self.person = _person\n",
    "        \n",
    "    def get_person_info(self): \n",
    "        if self.person.age < 14:\n",
    "            return Child(self.person).get_person_info()\n",
    "        else:\n",
    "            return Adult(self.person).get_person_info()\n",
    "\n",
    "\n",
    "class Child(Person):        \n",
    "\n",
    "    def __init__(self, _person : Person):\n",
    "        self.person = _person\n",
    "        \n",
    "    def get_person_info(self):\n",
    "        return f\"\"\"\\t\\t *** \n",
    "                    &&&\n",
    "                 {self.person.info}\n",
    "                    &&&\n",
    "                 ***\"\"\"\n",
    "class Adult(Person):\n",
    "    \n",
    "    def __init__(self, _person : Person):\n",
    "        self.person = _person\n",
    "        \n",
    "    def get_person_info(self):\n",
    "        return f\"\"\"\\t\\t    &&&\n",
    "                 {self.person.info}\n",
    "                    &&&\n",
    "                    \"\"\""
   ]
  },
  {
   "cell_type": "code",
   "execution_count": 17,
   "metadata": {},
   "outputs": [
    {
     "name": "stdout",
     "output_type": "stream",
     "text": [
      "\t\t    &&&\n",
      "                 Name: Edmon Abrahamyan \n",
      "                 Age: 25\n",
      "                 E-mail: emdon.abrahamyan@ysumail.am\n",
      "                    &&&\n",
      "                    \n"
     ]
    }
   ],
   "source": [
    "info = Information(Person('Edmon', 'Abrahamyan', 'emdon.abrahamyan@ysumail.am', 25))\n",
    "\n",
    "print(info.get_person_info())"
   ]
  },
  {
   "cell_type": "markdown",
   "metadata": {},
   "source": [
    "## Problem 2: extra\n",
    "\n",
    "```\n",
    "Implement the \"slow down\" logic. Create a function that will print some text. Create a decorator that takes an argument time_to_sleep, which will be the number of seconds to sleep before executing the function. Decorate the function with the described decorator and test the code with an example. You are free to add any additional logic to the function or the decorator. \n",
    "\n",
    "Իմպլիմենտացրեք \"դանդաղեցնող\" logic. Ստեղծեք ֆունկցիա, որը կտպի որևէ տեքստ։ Ստեղծեք  decorator, որը ստանում է time_to_sleep արգումենտը, որը ցույց է տալիս թե քանի վայրկյան պետք է sleep անել մինչև ֆունկցիան աշխատացնելը։ Decorate արեք ձեր ֆունկցիան նկարագրված decorator-ով ու test-ավորեք code-ը որևէ օրինակով։ Ազատ եք այս հիմնական տրամաբանությանը ավելացնել ցանկացած այլ տրամաբանություն։ \n",
    "```"
   ]
  },
  {
   "cell_type": "code",
   "execution_count": 9,
   "metadata": {},
   "outputs": [],
   "source": [
    "import time\n",
    "\n",
    "def slow_down(time_to_sleep):\n",
    "    def decorator_sleep(func):\n",
    "        def wrapper_repeat(*args, **kwargs):\n",
    "            time.sleep(time_to_sleep)\n",
    "            func(*args, **kwargs)\n",
    "        return wrapper_repeat\n",
    "    return decorator_sleep\n",
    " \n",
    "\n",
    "@slow_down(time_to_sleep = 2)\n",
    "def print_text(text):\n",
    "    print(text)\n"
   ]
  },
  {
   "cell_type": "code",
   "execution_count": 8,
   "metadata": {},
   "outputs": [
    {
     "name": "stdout",
     "output_type": "stream",
     "text": [
      "some text\n"
     ]
    }
   ],
   "source": [
    "print_text(\"some text\")"
   ]
  },
  {
   "cell_type": "markdown",
   "metadata": {},
   "source": [
    "## Problem 3\n",
    "\n",
    "```\n",
    "Suppose that you want to order some food with a delivery. Use Facade Design Pattern and classes of your choice to simulate a scenario of ordering using an application, you can have a dispatcher, a restaurant, a delivery guy and other actors of your choice. The most important thing is that you should have some method which will organize the priority of the steps that need to be taken when you order the delivery and will \"ask\" the right parties to do their job. This should happen without intervention of the client.\n",
    "\n",
    "Պատկերացրեք, որ ցանկանում եք առաքումով ուտելիք պատվիրել։ Գործածեք Facade Design Pattern-ը և ձեր ընտրությամբ ցանկացած class-ներ հավելվածով առաքումով ուտելիք պատվիրելու սցենարը ռեալիազացնելու համար։ Կարող եք ունենալ գրանցող, ռեստորան, առաքիչ կամ ձեր ընտրությամբ այլ տրամաբանական էլեմենտներ։ Ամենակարևոր պայմանն է որևէ ֆունկցիայի մեջ կազմակերպել գործողությունների հերթականությունը և հանձնարարություններ տալ ճիշտ կողմերին առաքումը տրամաբանական ձևով կազմակերպելու համար։ Սա պետք է տեղի ունենա առանց պատվիրատուի բոլոր մանրամասներից տեղյակ լինելու։\n",
    "```"
   ]
  },
  {
   "cell_type": "code",
   "execution_count": 28,
   "metadata": {},
   "outputs": [
    {
     "name": "stdout",
     "output_type": "stream",
     "text": [
      "The order is registered\n",
      "The order is being prepared...\n",
      "Order is ready\n",
      "Order is on the road...\n",
      "The order has arrived\n"
     ]
    }
   ],
   "source": [
    "import time\n",
    "\n",
    "\n",
    "class Dispatcher:\n",
    "    \n",
    "    def register(self):\n",
    "        print(\"The order is registered\")\n",
    "  \n",
    "  \n",
    "class Restaurant:\n",
    "  \n",
    "    def preparing(self):\n",
    "        print(\"The order is being prepared...\")\n",
    "        time.sleep(3)\n",
    "        print(\"Order is ready\")\n",
    "        \n",
    "class Delivery:\n",
    "    \n",
    "    def delivering(self):\n",
    "        print(\"Order is on the road...\")\n",
    "        time.sleep(4)    \n",
    "        print(\"The order has arrived\")\n",
    "    \n",
    "    \n",
    "class Application:\n",
    "    '''Facade'''\n",
    "  \n",
    "    def __init__(self):\n",
    "        self.register = Dispatcher()\n",
    "        self.preparing = Restaurant()\n",
    "        self.delivering = Delivery()\n",
    "\n",
    "    def order_food(self):\n",
    "        self.register.register()\n",
    "        self.preparing.preparing()\n",
    "        self.delivering.delivering()\n",
    "\n",
    "\n",
    "app = Application()\n",
    "app.order_food()"
   ]
  }
 ],
 "metadata": {
  "kernelspec": {
   "display_name": "Python 3",
   "language": "python",
   "name": "python3"
  },
  "language_info": {
   "codemirror_mode": {
    "name": "ipython",
    "version": 3
   },
   "file_extension": ".py",
   "mimetype": "text/x-python",
   "name": "python",
   "nbconvert_exporter": "python",
   "pygments_lexer": "ipython3",
   "version": "3.8.8"
  }
 },
 "nbformat": 4,
 "nbformat_minor": 2
}
