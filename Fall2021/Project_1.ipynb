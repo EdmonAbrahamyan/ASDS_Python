{
 "cells": [
  {
   "cell_type": "markdown",
   "metadata": {},
   "source": [
    "# Project 1.\n",
    "\n",
    "## Deadline: November 28-29, 01:00AM ```Ավելի ուշ ուղարկված աշխատանքներ չեն ընդունվի։```\n",
    "\n",
    "\n",
    "```\n",
    "Complete all the tasks in the jupyter notebook and name it name_last-name_project1.ipynb. Send me a zip file called name_last-name_project1 containing 2 files: the csv file with the data that you have scrapped in Task 1 and the jupyter notebook. \n",
    "Send the zip file to my email: shahanearushanyan@gmail.com\n",
    "```\n",
    "\n",
    "```\n",
    "Կատարեք բոլոր առաջադրանքները jupyter notebook-ում և անվանեք այն name_last-name_project1.ipynb. Ուղարկեք ինձ zip ֆայլ name_last-name_project1 անունով, որը կպարունակի 2 ֆայլ՝ scrap արված տվյալներով csv ֆայլը և jupyter notebook-ը։ \n",
    "Ուղարկեք zip ֆայլն իմ mail-ին՝ shahanearushanyan@gmail.com\n",
    "```"
   ]
  },
  {
   "cell_type": "markdown",
   "metadata": {},
   "source": [
    "## Task 1.\n",
    "\n",
    "```\n",
    "Scrap Amazon to get data for their best seller books. Get title, author, rating, number of users rated and price information for all available pages of products. (e.g. if there are 10 pages of best seller books, you need to scrap all the pages, not just the first page). Create a pandas dataframe and keep the scrapped information inside the dataframe, in separate columns.\n",
    "```\n",
    "\n",
    "```\n",
    "Scrap արեք Amazon-ի կայքը և ստացեք best seller (լավագույն վաճառվող) գրքերի տվյալները։ Ստացեք վերնագիր, հեղինակ, գնահատական, գնահատող օգտատերերի քանակ և գին բոլոր հասանելի էջերի գրքերի համար։ (Օրինակ՝ եթե կա 10 էջ, ապա պետք է ստանաք բոլոր 10 էջերում տեղ գտած ինֆորմացիան)։ Ստեղծեք pandas dataframe աղյուսակ և այնտեղ պահեք Ձեր ստացած տվյալներն առանձին սյուներով։  \n",
    "```"
   ]
  },
  {
   "cell_type": "code",
   "execution_count": 3,
   "metadata": {},
   "outputs": [],
   "source": [
    "from bs4 import BeautifulSoup\n",
    "import requests\n",
    "import pandas as pd"
   ]
  },
  {
   "cell_type": "code",
   "execution_count": 4,
   "metadata": {},
   "outputs": [
    {
     "data": {
      "text/plain": [
       "<Response [200]>"
      ]
     },
     "execution_count": 4,
     "metadata": {},
     "output_type": "execute_result"
    }
   ],
   "source": [
    "html_text = requests.get('https://www.amazon.com/gp/bestsellers/books'"
   ]
  },
  {
   "cell_type": "code",
   "execution_count": 148,
   "metadata": {},
   "outputs": [],
   "source": [
    "soup = BeautifulSoup(html_text.text, 'lxml')"
   ]
  },
  {
   "cell_type": "code",
   "execution_count": 149,
   "metadata": {},
   "outputs": [],
   "source": [
    "def CollectData(page):\n",
    "    books = page.find_all('li', class_ = 'zg-item-immersion')\n",
    "\n",
    "    for book in books:\n",
    "        dict_of_books['Title'].append(book.get_text().split('\\n')[2].strip())\n",
    "\n",
    "        if book.find('a', class_ = 'a-size-small a-link-child') != None:\n",
    "            dict_of_books['Author'].append(book.find('a', class_ = 'a-size-small a-link-child').text)\n",
    "        else:\n",
    "            dict_of_books['Author'].append('')\n",
    "\n",
    "        if book.find('span', class_ = 'p13n-sc-price') != None:    \n",
    "            dict_of_books['Price'].append(book.find('span', class_ = 'p13n-sc-price').text)\n",
    "        else:\n",
    "            dict_of_books['Price'].append('')\n",
    "\n",
    "        if book.find('a', class_ = 'a-size-small a-link-normal') != None:\n",
    "            dict_of_books['rated count'].append(book.find('a', class_ = 'a-size-small a-link-normal').text)\n",
    "        else:\n",
    "            dict_of_books['rated count'].append('')\n",
    "\n",
    "        if book.find('i', class_ = 'a-icon a-icon-star a-star-4-5 aok-align-top') != None:\n",
    "            dict_of_books['Rating'].append(book.find('i', class_ = 'a-icon a-icon-star a-star-4-5 aok-align-top').text.split(' ')[0])\n",
    "        else:\n",
    "            dict_of_books['Rating'].append('')\n",
    "            "
   ]
  },
  {
   "cell_type": "code",
   "execution_count": 150,
   "metadata": {},
   "outputs": [],
   "source": [
    "dict_of_books = {'Title' : [], \n",
    "                 'Author' : [], \n",
    "                 'Rating' : [], \n",
    "                 'Price' : [], \n",
    "                 'rated count' : []}\n",
    "\n"
   ]
  },
  {
   "cell_type": "code",
   "execution_count": 151,
   "metadata": {},
   "outputs": [],
   "source": [
    "while soup.find('li', class_ = 'a-last') != None:\n",
    "    CollectData(soup)\n",
    "    next_page = soup.find('li', class_ = 'a-last')\n",
    "    nex_page_link = next_page.find('a')['href']\n",
    "    nexpage = requests.get(f'{nex_page_link}')\n",
    "    soup = BeautifulSoup(nexpage.text, 'lxml')"
   ]
  },
  {
   "cell_type": "code",
   "execution_count": 155,
   "metadata": {},
   "outputs": [
    {
     "data": {
      "text/html": [
       "<div>\n",
       "<style scoped>\n",
       "    .dataframe tbody tr th:only-of-type {\n",
       "        vertical-align: middle;\n",
       "    }\n",
       "\n",
       "    .dataframe tbody tr th {\n",
       "        vertical-align: top;\n",
       "    }\n",
       "\n",
       "    .dataframe thead th {\n",
       "        text-align: right;\n",
       "    }\n",
       "</style>\n",
       "<table border=\"1\" class=\"dataframe\">\n",
       "  <thead>\n",
       "    <tr style=\"text-align: right;\">\n",
       "      <th></th>\n",
       "      <th>Title</th>\n",
       "      <th>Author</th>\n",
       "      <th>Rating</th>\n",
       "      <th>Price</th>\n",
       "      <th>rated count</th>\n",
       "    </tr>\n",
       "  </thead>\n",
       "  <tbody>\n",
       "    <tr>\n",
       "      <th>0</th>\n",
       "      <td>Atlas of the Heart: Mapping Meaningful Connect...</td>\n",
       "      <td>Brené Brown</td>\n",
       "      <td>4.6</td>\n",
       "      <td>$19.48</td>\n",
       "      <td>75</td>\n",
       "    </tr>\n",
       "    <tr>\n",
       "      <th>1</th>\n",
       "      <td>Big Shot Diary of a Wimpy Kid Book 16</td>\n",
       "      <td>Jeff Kinney</td>\n",
       "      <td></td>\n",
       "      <td>$7.49</td>\n",
       "      <td>2,565</td>\n",
       "    </tr>\n",
       "    <tr>\n",
       "      <th>2</th>\n",
       "      <td>The Real Anthony Fauci: Bill Gates, Big Pharma...</td>\n",
       "      <td>Robert F. Kennedy Jr.</td>\n",
       "      <td></td>\n",
       "      <td>$20.68</td>\n",
       "      <td>1,628</td>\n",
       "    </tr>\n",
       "    <tr>\n",
       "      <th>3</th>\n",
       "      <td>Johnny the Walrus</td>\n",
       "      <td>Matt Walsh</td>\n",
       "      <td>4.7</td>\n",
       "      <td>$20.00</td>\n",
       "      <td>102</td>\n",
       "    </tr>\n",
       "  </tbody>\n",
       "</table>\n",
       "</div>"
      ],
      "text/plain": [
       "                                               Title                 Author  \\\n",
       "0  Atlas of the Heart: Mapping Meaningful Connect...            Brené Brown   \n",
       "1              Big Shot Diary of a Wimpy Kid Book 16            Jeff Kinney   \n",
       "2  The Real Anthony Fauci: Bill Gates, Big Pharma...  Robert F. Kennedy Jr.   \n",
       "3                                  Johnny the Walrus             Matt Walsh   \n",
       "\n",
       "  Rating   Price rated count  \n",
       "0    4.6  $19.48          75  \n",
       "1          $7.49       2,565  \n",
       "2         $20.68       1,628  \n",
       "3    4.7  $20.00         102  "
      ]
     },
     "execution_count": 155,
     "metadata": {},
     "output_type": "execute_result"
    }
   ],
   "source": [
    "df2 = pd.DataFrame(data = d)\n",
    "df2.head(4)"
   ]
  },
  {
   "cell_type": "markdown",
   "metadata": {},
   "source": [
    "## Task 2.\n",
    "\n",
    "```\n",
    "Create classes Library and Book using the skeleton below and following function descriptions.\n",
    "Then use the data you got from Task 1., create an object of type Library and fill it with a list\n",
    "of objects of type Book. Test all the methods that you have implemented.\n",
    "```\n",
    "\n",
    "```\n",
    "Ստեղծեք Library և Book class-երը՝ օգտագործելով տրված կմախքն ու հետևելով ֆունկցիաների նկարագրություններին։ Այնուհետև օգտագործեք Task 1.-ում ստացված տվյալները, ստեղծեք Library տիպի օբյեկտ լցված գիրք տիպի օբյեկտներով։ Փորձարկեք Ձեր գրած բոլոր ֆունկցիաները։ \n",
    "```"
   ]
  },
  {
   "cell_type": "code",
   "execution_count": 89,
   "metadata": {},
   "outputs": [],
   "source": [
    "class Book:\n",
    "    \n",
    "    def __init__(self, title, author, rating, num_users_rated, price):\n",
    "        \"\"\"\n",
    "        Create the attributes title, author, rating, num_users_rated and price\n",
    "        \n",
    "        Ստեղծեք title, author, rating, num_users_rated և price attribute-ները\n",
    "        \"\"\"\n",
    "        self.title = title\n",
    "        self.author = author\n",
    "        self.rating = rating\n",
    "        self.num_users_rated = num_users_rated\n",
    "        self.price = price\n",
    "    \n",
    "    def pretty_print(self):\n",
    "        \"\"\"\n",
    "        Print book information in the following format:\n",
    "        $title by $author with rating $rating costs $price.\n",
    "        \n",
    "        Տպեք տվյալ գրքին վերաբերող ինֆորմացիան հետևյալ ֆորմատով՝\n",
    "        $title by $author with rating $rating costs $price.\n",
    "        \"\"\"\n",
    "        print(f\"{self.title} by {self.author} with rating {self.rating} costs {self.price}\")\n",
    "    \n",
    "    def rating_eval(self):\n",
    "        \"\"\"\n",
    "        Evaluates the statistical significance of the rating. The method should return \n",
    "        \"statistically significant rating\" (or ssr) in case more than 5000 users have\n",
    "        rated the following book and should return \"not statistically significant rating\" (or nssr), otherwise.\n",
    "        \n",
    "        Գնահատեք թե որքանով ստատիստիկորեն արժեքավոր է գրքին տրված գնահատականը։ Ֆունկցիան պետք է վերադարձնի \n",
    "        \"statistically significant rating\" (կամ ssr), եթե գիրքը գնահատել է ավելի քան 5000 օգտատեր և  \n",
    "        \"not statistically significant rating\" (կամ nssr)՝ հակառակ դեպքում։\n",
    "        \"\"\"\n",
    "        ssr = \"statistically significant rating\"\n",
    "        \n",
    "        if self.num_users_rated < 5000:\n",
    "            return \"not\" + ssr\n",
    "        else:\n",
    "            return ssr"
   ]
  },
  {
   "cell_type": "code",
   "execution_count": 564,
   "metadata": {},
   "outputs": [],
   "source": [
    "import Levenshtein as lev\n",
    "import random\n",
    "\n",
    "class Library:\n",
    "    \n",
    "    def __init__(self):\n",
    "        \"\"\"\n",
    "        Create an attribute of type list called Book_list which will be an empty list for now.\n",
    "        \n",
    "        Ստեղծեք list տիպի Book_list attribute-ը, որն առայժմ կլինի դատարկ list \n",
    "        \"\"\"\n",
    "        self.Book_list = []\n",
    "        \n",
    "    def set_Book_list(self, df):\n",
    "        for index, row in df.iterrows():\n",
    "            book = Book(row[\"Title\"],row[\"Author\"], row[\"Rating\"], row[\"rated count\"], row[\"Price\"])\n",
    "            self.Book_list.append(book)\n",
    "            \n",
    "    def get_top_5(self):\n",
    "        \"\"\"\n",
    "        Return the information related to 5 books that have the highest rating using the method pretty_print.\n",
    "        If there are more than 5 books with the same rating, randomly select and show only 5 of them.\n",
    "        \n",
    "        Վերադարձրեք 5 ամենաբարձր գնահատական ունեցող գրքերի վերաբերյալ ինֆորմացիա՝ օգտվելով pretty_print\n",
    "        ֆունկցիայից։ Եթե այդպիսի գրքերը 5-ից ավելի են՝ պատահականության սկզբունքով ընտրեք դրանցից 5-ը։\n",
    "        \"\"\"\n",
    "        \n",
    "        if len(self.Book_list) <= 5:\n",
    "            for book in Book_list:\n",
    "                book.pretty_print()\n",
    "            \n",
    "        sorted_book_list = sorted(self.Book_list, key=lambda x: x.rating, reverse=True)\n",
    "        index = 4\n",
    "        for i in range(5, len(sorted_book_list)):\n",
    "            if sorted_book_list[i].rating == sorted_book_list[index].rating:\n",
    "                index = i\n",
    "            else:\n",
    "                break   \n",
    "                \n",
    "        top_rated_books = sorted_book_list[:index]\n",
    "        choices = random.choices(top_rated_books, k = 5)\n",
    "        for book in choices:\n",
    "            book.pretty_print()\n",
    "        \n",
    "    def simple_search(self, title):\n",
    "        \"\"\"\n",
    "        Search a book with required title and print information related to all books with titles exactly \n",
    "        matching the searched title using the method pretty_print.\n",
    "        \n",
    "        Search արեք տրված վերնագրով գիրք (գրքեր) և վերադարձրեք այդ գրքի (գրքերի) մասին ինֆորմացիան՝ օգտվելով \n",
    "        pretty_print ֆունկցիայից։ Վերադարձված գրքերի վերնագրերը պետք է համընկնեն title փոփոխականի արժեքի հետ\n",
    "        \"\"\"\n",
    "        found = [i for i in range(len(self.Book_list)) if self.Book_list[i].title == title]\n",
    "\n",
    "        for i in found:\n",
    "            self.Book_list[i].pretty_print()\n",
    "    \n",
    "    def complex_search(self, title):\n",
    "        \"\"\"\n",
    "        In this case the user may not remember the exact title of the book. If you have a book(s) with \n",
    "        title exactly matching the searched title, this method should perform just like the method simple_search.\n",
    "        Otherwise, if you don't have any books with the searched title, you should return book(s) that have the\n",
    "        most similar titles. You are free to implement this method however you like. \n",
    "        One version that you can implement in case you don't have other ideas:\n",
    "        return the book(s) with titles containing the most number of words from the searched title \n",
    "        (return the information using the method pretty_print), and if there are no such books, \n",
    "        return \"nothing macthed your search\".\n",
    "        I would be happy to see any other interesting versions of the method :)\n",
    "        \n",
    "        \n",
    "        Այս դեպքում օգտատերը միգուցե չհիշի գրքի կոնկրետ անվանումը կամ այն մի փոքր սխալ հիշի։ Եթե կա գիրք (գրքեր)\n",
    "        որոնց վերնագիրը համընկնում է title փոփոխականի արժեքի հետ, ապա վերադարձրեք այդ գրքին (գրքերին) \n",
    "        վերաբերող ինֆորմացիան՝ օգտվելով pretty_print ֆունկցիայից։ Հակառակ դեպքում, պետք է վերադարձնել այն գրքերի մասին \n",
    "        ինֆորմացիա, որոնց վերնագրերը նման են title փոփոխականում պահված վերնագրի արժեքին։ Ազատ եք\n",
    "        որոշելու այս ֆունկցիայի աշխատանքի տրամաբանությունը։\n",
    "        Որպես հնարավոր տարբերակ (եթե չկան այլ մտքեր) կարող եք վերադարձնել այն գրքերի ինֆորմացին, որոնց\n",
    "        վերնագրերը պարունակում են title փոփոխամանում տրված բառերից ամենաշատ քանակության բառերը ու եթե չկան\n",
    "        այդպիսի գրքեր, վերադարձրեք \"nothing macthed your search\"։ \n",
    "        Ուրախ կլինեմ տեսնել այս ֆունկցիայի հետաքրքիր տարբերակներ :)\n",
    "        \"\"\"\n",
    "        found = [i for i in range(len(self.Book_list)) if lev.ratio(self.Book_list[i].title.lower(),title.lower()) >= 0.5]\n",
    "        if len(found) == 0:\n",
    "            print(\"nothing macthed your search\")\n",
    "            return\n",
    "        \n",
    "        for i in found:\n",
    "            self.Book_list[i].pretty_print()"
   ]
  },
  {
   "cell_type": "code",
   "execution_count": null,
   "metadata": {},
   "outputs": [],
   "source": []
  },
  {
   "cell_type": "markdown",
   "metadata": {},
   "source": [
    "## Task 3.\n",
    "\n",
    "```\n",
    "Write a short summary explaining what you have implemented in the 2 Tasks. Don't go too much into details since I can also see your code. Just incorporate some points about interesting decisions or solutions that you have applied. \n",
    "```\n",
    "\n",
    "```\n",
    "Գրեք Ձեր աշխատանքի փոքրիկ ամփոփում, որտեղ կբացատրեք թե ինչպես եք կատարել առաջադրանքները։ Ամփոփումը պետք է լինի շատ կարճ ու ներառի միայն այս կամ այն լուծում տալու վերաբերյալ որոշ բացատրություններ։ Հարկավոր չէ բացատրել ամեն մի փոքր քայլ։ \n",
    "```"
   ]
  },
  {
   "cell_type": "code",
   "execution_count": null,
   "metadata": {},
   "outputs": [],
   "source": [
    "շատ հետաքրքիր պրոէկտ էր։ '-_-''"
   ]
  }
 ],
 "metadata": {
  "kernelspec": {
   "display_name": "Python 3",
   "language": "python",
   "name": "python3"
  },
  "language_info": {
   "codemirror_mode": {
    "name": "ipython",
    "version": 3
   },
   "file_extension": ".py",
   "mimetype": "text/x-python",
   "name": "python",
   "nbconvert_exporter": "python",
   "pygments_lexer": "ipython3",
   "version": "3.8.8"
  }
 },
 "nbformat": 4,
 "nbformat_minor": 4
}
